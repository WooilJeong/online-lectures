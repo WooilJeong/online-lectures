{
 "cells": [
  {
   "cell_type": "markdown",
   "metadata": {},
   "source": [
    "> # MongoDB Python 연동"
   ]
  },
  {
   "cell_type": "code",
   "execution_count": 14,
   "metadata": {
    "ExecuteTime": {
     "end_time": "2020-11-08T08:35:25.218762Z",
     "start_time": "2020-11-08T08:35:25.210260Z"
    }
   },
   "outputs": [],
   "source": [
    "import pymongo\n",
    "from pprint import pprint\n",
    "\n",
    "conn = pymongo.MongoClient('localhost', 27017)\n",
    "db = conn.mydb\n",
    "collection = db.employees"
   ]
  },
  {
   "cell_type": "code",
   "execution_count": 17,
   "metadata": {
    "ExecuteTime": {
     "end_time": "2020-11-08T08:36:02.890466Z",
     "start_time": "2020-11-08T08:36:02.885470Z"
    }
   },
   "outputs": [
    {
     "name": "stdout",
     "output_type": "stream",
     "text": [
      "{'_id': ObjectId('5fa79190d192627770b1aa77'),\n",
      " 'age': 45.0,\n",
      " 'status': 'B',\n",
      " 'user_id': 'bcd001'}\n",
      "{'_id': ObjectId('5fa79190d192627770b1aa78'),\n",
      " 'age': 25.0,\n",
      " 'status': 'B',\n",
      " 'user_id': 'bcd002'}\n",
      "{'_id': ObjectId('5fa79190d192627770b1aa79'),\n",
      " 'age': 50.0,\n",
      " 'status': 'B',\n",
      " 'user_id': 'bcd003'}\n",
      "{'_id': ObjectId('5fa79190d192627770b1aa7a'),\n",
      " 'age': 35.0,\n",
      " 'status': 'A',\n",
      " 'user_id': 'bcd004'}\n",
      "{'_id': ObjectId('5fa79190d192627770b1aa7b'),\n",
      " 'age': 28.0,\n",
      " 'status': 'B',\n",
      " 'user_id': 'bcd005'}\n"
     ]
    }
   ],
   "source": [
    "for doc in collection.find():\n",
    "    pprint(doc)"
   ]
  },
  {
   "cell_type": "code",
   "execution_count": null,
   "metadata": {},
   "outputs": [],
   "source": []
  },
  {
   "cell_type": "code",
   "execution_count": null,
   "metadata": {},
   "outputs": [],
   "source": []
  }
 ],
 "metadata": {
  "kernelspec": {
   "display_name": "Python 3",
   "language": "python",
   "name": "python3"
  },
  "language_info": {
   "codemirror_mode": {
    "name": "ipython",
    "version": 3
   },
   "file_extension": ".py",
   "mimetype": "text/x-python",
   "name": "python",
   "nbconvert_exporter": "python",
   "pygments_lexer": "ipython3",
   "version": "3.8.3"
  },
  "toc": {
   "base_numbering": 1,
   "nav_menu": {},
   "number_sections": true,
   "sideBar": true,
   "skip_h1_title": false,
   "title_cell": "Table of Contents",
   "title_sidebar": "Contents",
   "toc_cell": false,
   "toc_position": {},
   "toc_section_display": true,
   "toc_window_display": false
  },
  "varInspector": {
   "cols": {
    "lenName": 16,
    "lenType": 16,
    "lenVar": 40
   },
   "kernels_config": {
    "python": {
     "delete_cmd_postfix": "",
     "delete_cmd_prefix": "del ",
     "library": "var_list.py",
     "varRefreshCmd": "print(var_dic_list())"
    },
    "r": {
     "delete_cmd_postfix": ") ",
     "delete_cmd_prefix": "rm(",
     "library": "var_list.r",
     "varRefreshCmd": "cat(var_dic_list()) "
    }
   },
   "types_to_exclude": [
    "module",
    "function",
    "builtin_function_or_method",
    "instance",
    "_Feature"
   ],
   "window_display": false
  }
 },
 "nbformat": 4,
 "nbformat_minor": 4
}
