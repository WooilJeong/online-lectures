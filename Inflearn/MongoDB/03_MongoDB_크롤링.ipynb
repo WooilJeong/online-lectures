{
 "cells": [
  {
   "cell_type": "markdown",
   "metadata": {},
   "source": [
    "> # CINE21 배우 정보 크롤링"
   ]
  },
  {
   "cell_type": "markdown",
   "metadata": {},
   "source": [
    "## 라이브러리"
   ]
  },
  {
   "cell_type": "code",
   "execution_count": 1,
   "metadata": {
    "ExecuteTime": {
     "end_time": "2020-11-08T09:19:25.884041Z",
     "start_time": "2020-11-08T09:19:25.762928Z"
    }
   },
   "outputs": [],
   "source": [
    "import pymongo\n",
    "from pprint import pprint\n",
    "\n",
    "from bs4 import BeautifulSoup\n",
    "import requests\n",
    "import re"
   ]
  },
  {
   "cell_type": "markdown",
   "metadata": {},
   "source": [
    "## MongoDB 연결"
   ]
  },
  {
   "cell_type": "code",
   "execution_count": 2,
   "metadata": {},
   "outputs": [],
   "source": [
    "# 몽고 클라이언트\n",
    "conn = pymongo.MongoClient()\n",
    "# cine21 DB 연결\n",
    "db = conn.cine21\n",
    "# actor Collection 연결\n",
    "collection = db.actor"
   ]
  },
  {
   "cell_type": "markdown",
   "metadata": {},
   "source": [
    "- URL: http://www.cine21.com/rank/person/content\n",
    "- Method: POST\n",
    "- Form Data\n",
    "  - section: actor\n",
    "  - period_start: 2020-05\n",
    "  - gender: all\n",
    "  - page: 1"
   ]
  },
  {
   "cell_type": "markdown",
   "metadata": {},
   "source": [
    "## 크롤링"
   ]
  },
  {
   "cell_type": "markdown",
   "metadata": {},
   "source": [
    "### 참고: 특수한 정규 표현식\n",
    "\n",
    "```html\n",
    "- Greedy(.*) vs Non-Greedy(.*?)\n",
    "- 연습: https://regexr.com\n",
    "- <li><span class=\"tit\">직업</span>배우</li>\n",
    "```"
   ]
  },
  {
   "cell_type": "code",
   "execution_count": null,
   "metadata": {
    "scrolled": true
   },
   "outputs": [],
   "source": [
    "# 배우 정보 리스트\n",
    "actors_info_list = list()\n",
    "\n",
    "# Request 파라미터\n",
    "cine21_url = 'http://www.cine21.com/rank/person/content'\n",
    "post_data = dict()\n",
    "post_data['section'] = 'actor'\n",
    "post_data['period_start'] = '2019-11'\n",
    "post_data['gender'] = 'all'\n",
    "\n",
    "# 페이지 순회 1 ~ 20\n",
    "for i in range(1, 21):\n",
    "    \n",
    "    print(f\">> Page: {i} Start\")\n",
    "    post_data['page'] = i\n",
    "\n",
    "    res = requests.post(cine21_url, data=post_data)\n",
    "\n",
    "    soup = BeautifulSoup(res.content, 'html.parser')\n",
    "    actors = soup.select('Li.people_li div.name')\n",
    "    hits = soup.select('ul.num_info li strong')\n",
    "    movies = soup.select('ul.mov_list')\n",
    "    rankings = soup.select('li.people_li span.grade')\n",
    "\n",
    "    url = 'http://www.cine21.com'\n",
    "\n",
    "    for index, actor in enumerate(actors):\n",
    "\n",
    "        # 배우 이름\n",
    "        actor_nm = re.sub('\\(\\w*\\)','', actor.text)\n",
    "        # 배우 흥행지수\n",
    "        actor_hit = int(hits[index].text.replace(',',''))\n",
    "        # 배우 랭킹\n",
    "        actor_ranking = rankings[index].text\n",
    "        # 출연 영화 목록\n",
    "        movie_titles = movies[index].select('li a span')\n",
    "        movie_title_list = list()\n",
    "        for movie_title in movie_titles:\n",
    "            movie_title_list.append(movie_title.text)\n",
    "\n",
    "        # 배우 상세 페이지 링크\n",
    "        actor_link = url + actor.select_one(\"a\").attrs['href']\n",
    "        # 상세 페이지 요청\n",
    "        response_actor = requests.get(actor_link)\n",
    "        # 상세 페이지 파싱\n",
    "        soup_actor = BeautifulSoup(response_actor.content, 'html.parser')\n",
    "        default_info = soup_actor.select_one('ul.default_info')\n",
    "        # 배우 상세 정보\n",
    "        actor_details = default_info.select('li')\n",
    "\n",
    "        # 배우 상세 정보 딕셔너리\n",
    "        actor_info_dict = dict()\n",
    "        actor_info_dict['이름'] = actor_nm\n",
    "        actor_info_dict['흥행지수'] = actor_hit\n",
    "        actor_info_dict['랭킹'] = actor_ranking\n",
    "        actor_info_dict['출연영화'] = movie_title_list\n",
    "        for actor_item in actor_details:\n",
    "\n",
    "            # 필드\n",
    "            actor_item_field = actor_item.select_one('span.tit').text\n",
    "\n",
    "            # 값\n",
    "            actor_item_value = re.sub('<span.*?>.*?</span>','', str(actor_item))\n",
    "            actor_item_value = re.sub('<.*?>','',actor_item_value)\n",
    "\n",
    "            # 딕셔너리 추가\n",
    "            actor_info_dict[actor_item_field] = actor_item_value\n",
    "\n",
    "        # 리스트 추가\n",
    "        actors_info_list.append(actor_info_dict)"
   ]
  },
  {
   "cell_type": "markdown",
   "metadata": {},
   "source": [
    "## MongoDB에 데이터 적재"
   ]
  },
  {
   "cell_type": "code",
   "execution_count": null,
   "metadata": {},
   "outputs": [],
   "source": [
    "collection.insert_many(actors_info_list)"
   ]
  },
  {
   "cell_type": "markdown",
   "metadata": {},
   "source": [
    "## 적재된 Documents 수 확인"
   ]
  },
  {
   "cell_type": "code",
   "execution_count": 3,
   "metadata": {},
   "outputs": [
    {
     "data": {
      "text/plain": [
       "140"
      ]
     },
     "execution_count": 3,
     "metadata": {},
     "output_type": "execute_result"
    }
   ],
   "source": [
    "collection.count_documents({})"
   ]
  },
  {
   "cell_type": "markdown",
   "metadata": {},
   "source": [
    "## Data Handling"
   ]
  },
  {
   "cell_type": "markdown",
   "metadata": {},
   "source": [
    "### limit"
   ]
  },
  {
   "cell_type": "code",
   "execution_count": 21,
   "metadata": {
    "scrolled": true
   },
   "outputs": [
    {
     "name": "stdout",
     "output_type": "stream",
     "text": [
      "{'_id': ObjectId('5fa7ff30adc79825f5f61a04'),\n",
      " '다른이름': 'Byung-hun Lee;BH Lee',\n",
      " '랭킹': '1',\n",
      " '생년월일': '1970-07-12',\n",
      " '성별': '남',\n",
      " '신장/체중': '177cm, 72kg',\n",
      " '이름': '이병헌',\n",
      " '직업': '배우',\n",
      " '출연영화': ['백두산', '남산의 부장들', '그것만이 내 세상', '내부자들', '광해, 왕이 된 남자', '공동경비구역 JSA'],\n",
      " '취미': '모자수집, 여행',\n",
      " '특기': '태권도, 스노우보드, 수영, 팔씨름',\n",
      " '학교': '한양대학교 불어문학과',\n",
      " '홈페이지': '\\nhttp://www.leebyunghun.kr/\\n',\n",
      " '흥행지수': 66911}\n",
      "{'_id': ObjectId('5fa7ff30adc79825f5f61a05'),\n",
      " '다른이름': '김성훈; 河正宇',\n",
      " '랭킹': '2',\n",
      " '생년월일': '1978-03-11',\n",
      " '성별': '남',\n",
      " '신장/체중': '184cm, 75kg',\n",
      " '이름': '하정우',\n",
      " '직업': '배우',\n",
      " '출연영화': ['백두산', '클로젯', '멋진 하루', '아가씨', '범죄와의 전쟁 : 나쁜놈들 전성시대', '암살'],\n",
      " '취미': '피아노, 검도, 수영',\n",
      " '학교': '중앙대학교 연극학 학사',\n",
      " '홈페이지': '\\nhttps://www.facebook.com/ft.hajungwoo\\n',\n",
      " '흥행지수': 45515}\n",
      "{'_id': ObjectId('5fa7ff30adc79825f5f61a06'),\n",
      " '랭킹': '3',\n",
      " '생년월일': '1970-09-01',\n",
      " '성별': '남',\n",
      " '소속사': '예당엔터테인먼트',\n",
      " '신장/체중': '180cm, 75kg',\n",
      " '이름': '황정민',\n",
      " '직업': '배우',\n",
      " '출연영화': ['다만 악에서 구하소서', '신세계', '부당거래', '국제시장', '아수라'],\n",
      " '특기': '농구, 악기연주',\n",
      " '학교': '서울예술대학 연극과 졸업',\n",
      " '흥행지수': 40079}\n"
     ]
    }
   ],
   "source": [
    "doc = collection.find({}).limit(3)\n",
    "for d in doc:\n",
    "    pprint(d)"
   ]
  },
  {
   "cell_type": "markdown",
   "metadata": {},
   "source": [
    "### update -  필드 명 변경"
   ]
  },
  {
   "cell_type": "code",
   "execution_count": 20,
   "metadata": {},
   "outputs": [
    {
     "data": {
      "text/plain": [
       "<pymongo.results.UpdateResult at 0x1c3f5681dc0>"
      ]
     },
     "execution_count": 20,
     "metadata": {},
     "output_type": "execute_result"
    }
   ],
   "source": [
    "collection.update_many({}, {\"$rename\":{\"다른 이름\": \"다른이름\"}})"
   ]
  },
  {
   "cell_type": "markdown",
   "metadata": {},
   "source": [
    "### sort"
   ]
  },
  {
   "cell_type": "code",
   "execution_count": 29,
   "metadata": {},
   "outputs": [
    {
     "name": "stdout",
     "output_type": "stream",
     "text": [
      "{'_id': ObjectId('5fa7ff30adc79825f5f61a8e'),\n",
      " '랭킹': '139',\n",
      " '성별': '여',\n",
      " '이름': '문승아',\n",
      " '직업': '배우',\n",
      " '출연영화': ['소리도 없이'],\n",
      " '흥행지수': 1202}\n",
      "{'_id': ObjectId('5fa7ff30adc79825f5f61a8e'),\n",
      " '랭킹': '139',\n",
      " '성별': '여',\n",
      " '이름': '문승아',\n",
      " '직업': '배우',\n",
      " '출연영화': ['소리도 없이'],\n",
      " '흥행지수': 1202}\n"
     ]
    }
   ],
   "source": [
    "docs = collection.find({}).sort(\"생년월일\", pymongo.DESCENDING).limit(2)\n",
    "for doc in docs:\n",
    "    pprint(d)"
   ]
  },
  {
   "cell_type": "markdown",
   "metadata": {},
   "source": [
    "### exists"
   ]
  },
  {
   "cell_type": "code",
   "execution_count": 33,
   "metadata": {},
   "outputs": [
    {
     "name": "stdout",
     "output_type": "stream",
     "text": [
      "{'_id': ObjectId('5fa7ff30adc79825f5f61a75'),\n",
      " '다른이름': 'Jeon Do Youn',\n",
      " '랭킹': '114',\n",
      " '생년월일': '1973-02-11',\n",
      " '성별': '여',\n",
      " '소속사': '노아엔터테인먼트',\n",
      " '신장/체중': '165cm, 45kg',\n",
      " '이름': '전도연',\n",
      " '직업': '배우',\n",
      " '출연영화': ['무뢰한', '지푸라기라도 잡고 싶은 짐승들', '접속', '밀양', '멋진 하루', '해피엔드'],\n",
      " '취미': '음악듣기, 영화감상',\n",
      " '특기': '수상스키, 포켓볼',\n",
      " '학교': '서울예술대학 방송연예',\n",
      " '흥행지수': 1850}\n",
      "{'_id': ObjectId('5fa7ff30adc79825f5f61a66'),\n",
      " '랭킹': '99',\n",
      " '생년월일': '1971-01-31',\n",
      " '성별': '여',\n",
      " '소속사': '에이스타즈',\n",
      " '신장/체중': '165cm, 48kg',\n",
      " '이름': '이영애',\n",
      " '직업': '배우',\n",
      " '출연영화': ['나를 찾아줘', '봄날은 간다', '친절한 금자씨', '공동경비구역 JSA'],\n",
      " '취미': '수영, 승마, 피아노',\n",
      " '특기': '노래',\n",
      " '학교': '한양대 독어독문  -중앙대학교대학원 연극영화',\n",
      " '흥행지수': 2448}\n"
     ]
    }
   ],
   "source": [
    "docs = collection.find({'특기':{\"$exists\": True}}).sort(\"흥행지수\",pymongo.ASCENDING).limit(2)\n",
    "for doc in docs:\n",
    "    pprint(doc)"
   ]
  },
  {
   "cell_type": "code",
   "execution_count": 36,
   "metadata": {},
   "outputs": [
    {
     "name": "stdout",
     "output_type": "stream",
     "text": [
      "{'이름': '이정재'}\n",
      "{'이름': '염정아'}\n",
      "{'이름': '김소진'}\n",
      "{'이름': '조현정'}\n",
      "{'이름': '정우성'}\n",
      "{'이름': '김경덕'}\n",
      "{'이름': '옥자연'}\n",
      "{'이름': '김영은'}\n",
      "{'이름': '이봉련'}\n",
      "{'이름': '장동주'}\n"
     ]
    }
   ],
   "source": [
    "docs = collection.find({'생년월일':{\"$exists\": False}}, {\"이름\": 1, \"_id\": 0}).limit(10)\n",
    "for doc in docs:\n",
    "    pprint(doc)"
   ]
  },
  {
   "cell_type": "markdown",
   "metadata": {},
   "source": [
    "### 범위 쿼리"
   ]
  },
  {
   "cell_type": "code",
   "execution_count": 41,
   "metadata": {
    "scrolled": true
   },
   "outputs": [
    {
     "name": "stdout",
     "output_type": "stream",
     "text": [
      "{'이름': '이병헌',\n",
      " '출연영화': ['백두산', '남산의 부장들', '그것만이 내 세상', '내부자들', '광해, 왕이 된 남자', '공동경비구역 JSA'],\n",
      " '흥행지수': 66911}\n",
      "{'이름': '하정우',\n",
      " '출연영화': ['백두산', '클로젯', '멋진 하루', '아가씨', '범죄와의 전쟁 : 나쁜놈들 전성시대', '암살'],\n",
      " '흥행지수': 45515}\n",
      "{'이름': '황정민',\n",
      " '출연영화': ['다만 악에서 구하소서', '신세계', '부당거래', '국제시장', '아수라'],\n",
      " '흥행지수': 40079}\n",
      "{'이름': '이정재',\n",
      " '출연영화': ['다만 악에서 구하소서', '신세계', '인천상륙작전', '사바하', '암살', '도둑들'],\n",
      " '흥행지수': 26719}\n",
      "{'이름': '박정민',\n",
      " '출연영화': ['시동', '다만 악에서 구하소서', '사냥의 시간', '타짜: 원 아이드 잭', '동주', '들개'],\n",
      " '흥행지수': 26412}\n",
      "{'이름': '전혜진', '출연영화': ['백두산', '뺑반', '불한당: 나쁜 놈들의 세상', '사도'], '흥행지수': 26197}\n",
      "{'이름': '이성민',\n",
      " '출연영화': ['남산의 부장들', '미스터 주: 사라진 VIP', '부당거래', '뺑반', '밀양', '변호인'],\n",
      " '흥행지수': 22110}\n",
      "{'이름': '유아인',\n",
      " '출연영화': ['＃살아있다', '소리도 없이', '버닝', '국가부도의 날', '사도', '우아한 거짓말'],\n",
      " '흥행지수': 21813}\n",
      "{'이름': '곽도원',\n",
      " '출연영화': ['남산의 부장들', '강철비2: 정상회담', '국제수사', '무뢰한', '변호인', '아수라'],\n",
      " '흥행지수': 20093}\n"
     ]
    }
   ],
   "source": [
    "docs = collection.find({\"흥행지수\": {\"$gte\": 20000}}, {\"_id\":0,\"이름\":1,\"흥행지수\":1,\"출연영화\":1}).sort(\"흥행지수\",pymongo.DESCENDING)\n",
    "for doc in docs:\n",
    "    pprint(doc)"
   ]
  },
  {
   "cell_type": "markdown",
   "metadata": {},
   "source": [
    "### 리스트 내 조회"
   ]
  },
  {
   "cell_type": "code",
   "execution_count": 46,
   "metadata": {},
   "outputs": [
    {
     "name": "stdout",
     "output_type": "stream",
     "text": [
      "{'랭킹': '1',\n",
      " '이름': '이병헌',\n",
      " '출연영화': ['백두산', '남산의 부장들', '그것만이 내 세상', '내부자들', '광해, 왕이 된 남자', '공동경비구역 JSA']}\n",
      "{'랭킹': '7',\n",
      " '이름': '이성민',\n",
      " '출연영화': ['남산의 부장들', '미스터 주: 사라진 VIP', '부당거래', '뺑반', '밀양', '변호인']}\n",
      "{'랭킹': '9',\n",
      " '이름': '곽도원',\n",
      " '출연영화': ['남산의 부장들', '강철비2: 정상회담', '국제수사', '무뢰한', '변호인', '아수라']}\n",
      "{'랭킹': '15',\n",
      " '이름': '이희준',\n",
      " '출연영화': ['남산의 부장들', '오! 문희', '환상속의 그대', '미성년', '미쓰백', '최악의 하루']}\n",
      "{'랭킹': '42', '이름': '김소진', '출연영화': ['남산의 부장들', '아이 캔 스피크', '미성년', '더 킹']}\n",
      "{'랭킹': '122',\n",
      " '이름': '서현우',\n",
      " '출연영화': ['남산의 부장들', '나를 찾아줘', '테우리', '보희와 녹양', '국도극장', '너와 극장에서']}\n",
      "{'랭킹': '138', '이름': '지현준', '출연영화': ['남산의 부장들']}\n"
     ]
    }
   ],
   "source": [
    "docs = collection.find({'출연영화': \"남산의 부장들\"}, {\"_id\":0,\"이름\":1,\"랭킹\":1,\"출연영화\":1})\n",
    "for doc in docs:\n",
    "    pprint(doc)"
   ]
  },
  {
   "cell_type": "code",
   "execution_count": null,
   "metadata": {},
   "outputs": [],
   "source": []
  },
  {
   "cell_type": "code",
   "execution_count": null,
   "metadata": {},
   "outputs": [],
   "source": []
  },
  {
   "cell_type": "code",
   "execution_count": null,
   "metadata": {},
   "outputs": [],
   "source": []
  },
  {
   "cell_type": "code",
   "execution_count": null,
   "metadata": {},
   "outputs": [],
   "source": []
  },
  {
   "cell_type": "code",
   "execution_count": null,
   "metadata": {},
   "outputs": [],
   "source": []
  }
 ],
 "metadata": {
  "kernelspec": {
   "display_name": "Python 3",
   "language": "python",
   "name": "python3"
  },
  "language_info": {
   "codemirror_mode": {
    "name": "ipython",
    "version": 3
   },
   "file_extension": ".py",
   "mimetype": "text/x-python",
   "name": "python",
   "nbconvert_exporter": "python",
   "pygments_lexer": "ipython3",
   "version": "3.8.3"
  },
  "toc": {
   "base_numbering": 1,
   "nav_menu": {},
   "number_sections": true,
   "sideBar": true,
   "skip_h1_title": false,
   "title_cell": "Table of Contents",
   "title_sidebar": "Contents",
   "toc_cell": false,
   "toc_position": {},
   "toc_section_display": true,
   "toc_window_display": false
  },
  "varInspector": {
   "cols": {
    "lenName": 16,
    "lenType": 16,
    "lenVar": 40
   },
   "kernels_config": {
    "python": {
     "delete_cmd_postfix": "",
     "delete_cmd_prefix": "del ",
     "library": "var_list.py",
     "varRefreshCmd": "print(var_dic_list())"
    },
    "r": {
     "delete_cmd_postfix": ") ",
     "delete_cmd_prefix": "rm(",
     "library": "var_list.r",
     "varRefreshCmd": "cat(var_dic_list()) "
    }
   },
   "types_to_exclude": [
    "module",
    "function",
    "builtin_function_or_method",
    "instance",
    "_Feature"
   ],
   "window_display": false
  }
 },
 "nbformat": 4,
 "nbformat_minor": 4
}
