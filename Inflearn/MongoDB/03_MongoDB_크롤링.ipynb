{
 "cells": [
  {
   "cell_type": "markdown",
   "metadata": {},
   "source": [
    "> # CINE21 배우 정보 크롤링"
   ]
  },
  {
   "cell_type": "markdown",
   "metadata": {},
   "source": [
    "## 라이브러리"
   ]
  },
  {
   "cell_type": "code",
   "execution_count": 1,
   "metadata": {
    "ExecuteTime": {
     "end_time": "2020-11-08T09:19:25.884041Z",
     "start_time": "2020-11-08T09:19:25.762928Z"
    }
   },
   "outputs": [],
   "source": [
    "import pymongo\n",
    "from pprint import pprint\n",
    "\n",
    "from bs4 import BeautifulSoup\n",
    "import requests\n",
    "import re"
   ]
  },
  {
   "cell_type": "markdown",
   "metadata": {},
   "source": [
    "## MongoDB 연결"
   ]
  },
  {
   "cell_type": "code",
   "execution_count": 2,
   "metadata": {},
   "outputs": [],
   "source": [
    "# 몽고 클라이언트\n",
    "conn = pymongo.MongoClient()\n",
    "# cine21 DB 연결\n",
    "db = conn.cine21\n",
    "# actor Collection 연결\n",
    "collection = db.actor"
   ]
  },
  {
   "cell_type": "markdown",
   "metadata": {},
   "source": [
    "- URL: http://www.cine21.com/rank/person/content\n",
    "- Method: POST\n",
    "- Form Data\n",
    "  - section: actor\n",
    "  - period_start: 2020-05\n",
    "  - gender: all\n",
    "  - page: 1"
   ]
  },
  {
   "cell_type": "markdown",
   "metadata": {},
   "source": [
    "## 크롤링"
   ]
  },
  {
   "cell_type": "markdown",
   "metadata": {},
   "source": [
    "### 참고: 특수한 정규 표현식\n",
    "\n",
    "```html\n",
    "- Greedy(.*) vs Non-Greedy(.*?)\n",
    "- 연습: https://regexr.com\n",
    "- <li><span class=\"tit\">직업</span>배우</li>\n",
    "```"
   ]
  },
  {
   "cell_type": "code",
   "execution_count": 3,
   "metadata": {
    "scrolled": true
   },
   "outputs": [
    {
     "name": "stdout",
     "output_type": "stream",
     "text": [
      ">> Page: 1 Start\n",
      ">> Page: 2 Start\n",
      ">> Page: 3 Start\n",
      ">> Page: 4 Start\n",
      ">> Page: 5 Start\n",
      ">> Page: 6 Start\n",
      ">> Page: 7 Start\n",
      ">> Page: 8 Start\n",
      ">> Page: 9 Start\n",
      ">> Page: 10 Start\n",
      ">> Page: 11 Start\n",
      ">> Page: 12 Start\n",
      ">> Page: 13 Start\n",
      ">> Page: 14 Start\n",
      ">> Page: 15 Start\n",
      ">> Page: 16 Start\n",
      ">> Page: 17 Start\n",
      ">> Page: 18 Start\n",
      ">> Page: 19 Start\n",
      ">> Page: 20 Start\n"
     ]
    }
   ],
   "source": [
    "# 배우 정보 리스트\n",
    "actors_info_list = list()\n",
    "\n",
    "# Request 파라미터\n",
    "cine21_url = 'http://www.cine21.com/rank/person/content'\n",
    "post_data = dict()\n",
    "post_data['section'] = 'actor'\n",
    "post_data['period_start'] = '2019-11'\n",
    "post_data['gender'] = 'all'\n",
    "\n",
    "# 페이지 순회 1 ~ 20\n",
    "for i in range(1, 21):\n",
    "    \n",
    "    print(f\">> Page: {i} Start\")\n",
    "    post_data['page'] = i\n",
    "\n",
    "    res = requests.post(cine21_url, data=post_data)\n",
    "\n",
    "    soup = BeautifulSoup(res.content, 'html.parser')\n",
    "    actors = soup.select('Li.people_li div.name')\n",
    "    hits = soup.select('ul.num_info li strong')\n",
    "    movies = soup.select('ul.mov_list')\n",
    "    rankings = soup.select('li.people_li span.grade')\n",
    "\n",
    "    url = 'http://www.cine21.com'\n",
    "\n",
    "    for index, actor in enumerate(actors):\n",
    "\n",
    "        # 배우 이름\n",
    "        actor_nm = re.sub('\\(\\w*\\)','', actor.text)\n",
    "        # 배우 흥행지수\n",
    "        actor_hit = int(hits[index].text.replace(',',''))\n",
    "        # 배우 랭킹\n",
    "        actor_ranking = rankings[index].text\n",
    "        # 출연 영화 목록\n",
    "        movie_titles = movies[index].select('li a span')\n",
    "        movie_title_list = list()\n",
    "        for movie_title in movie_titles:\n",
    "            movie_title_list.append(movie_title.text)\n",
    "\n",
    "        # 배우 상세 페이지 링크\n",
    "        actor_link = url + actor.select_one(\"a\").attrs['href']\n",
    "        # 상세 페이지 요청\n",
    "        response_actor = requests.get(actor_link)\n",
    "        # 상세 페이지 파싱\n",
    "        soup_actor = BeautifulSoup(response_actor.content, 'html.parser')\n",
    "        default_info = soup_actor.select_one('ul.default_info')\n",
    "        # 배우 상세 정보\n",
    "        actor_details = default_info.select('li')\n",
    "\n",
    "        # 배우 상세 정보 딕셔너리\n",
    "        actor_info_dict = dict()\n",
    "        actor_info_dict['이름'] = actor_nm\n",
    "        actor_info_dict['흥행지수'] = actor_hit\n",
    "        actor_info_dict['랭킹'] = actor_ranking\n",
    "        actor_info_dict['출연영화'] = movie_title_list\n",
    "        for actor_item in actor_details:\n",
    "\n",
    "            # 필드\n",
    "            actor_item_field = actor_item.select_one('span.tit').text\n",
    "\n",
    "            # 값\n",
    "            actor_item_value = re.sub('<span.*?>.*?</span>','', str(actor_item))\n",
    "            actor_item_value = re.sub('<.*?>','',actor_item_value)\n",
    "\n",
    "            # 딕셔너리 추가\n",
    "            actor_info_dict[actor_item_field] = actor_item_value\n",
    "\n",
    "        # 리스트 추가\n",
    "        actors_info_list.append(actor_info_dict)"
   ]
  },
  {
   "cell_type": "markdown",
   "metadata": {},
   "source": [
    "## MongoDB에 데이터 적재"
   ]
  },
  {
   "cell_type": "code",
   "execution_count": 4,
   "metadata": {},
   "outputs": [
    {
     "data": {
      "text/plain": [
       "<pymongo.results.InsertManyResult at 0x20713edf740>"
      ]
     },
     "execution_count": 4,
     "metadata": {},
     "output_type": "execute_result"
    }
   ],
   "source": [
    "collection.insert_many(actors_info_list)"
   ]
  },
  {
   "cell_type": "markdown",
   "metadata": {},
   "source": [
    "## 적재된 Documents 수 확인"
   ]
  },
  {
   "cell_type": "code",
   "execution_count": 5,
   "metadata": {},
   "outputs": [
    {
     "data": {
      "text/plain": [
       "140"
      ]
     },
     "execution_count": 5,
     "metadata": {},
     "output_type": "execute_result"
    }
   ],
   "source": [
    "collection.count_documents({})"
   ]
  }
 ],
 "metadata": {
  "kernelspec": {
   "display_name": "Python 3",
   "language": "python",
   "name": "python3"
  },
  "language_info": {
   "codemirror_mode": {
    "name": "ipython",
    "version": 3
   },
   "file_extension": ".py",
   "mimetype": "text/x-python",
   "name": "python",
   "nbconvert_exporter": "python",
   "pygments_lexer": "ipython3",
   "version": "3.8.3"
  },
  "toc": {
   "base_numbering": 1,
   "nav_menu": {},
   "number_sections": true,
   "sideBar": true,
   "skip_h1_title": false,
   "title_cell": "Table of Contents",
   "title_sidebar": "Contents",
   "toc_cell": false,
   "toc_position": {},
   "toc_section_display": true,
   "toc_window_display": false
  },
  "varInspector": {
   "cols": {
    "lenName": 16,
    "lenType": 16,
    "lenVar": 40
   },
   "kernels_config": {
    "python": {
     "delete_cmd_postfix": "",
     "delete_cmd_prefix": "del ",
     "library": "var_list.py",
     "varRefreshCmd": "print(var_dic_list())"
    },
    "r": {
     "delete_cmd_postfix": ") ",
     "delete_cmd_prefix": "rm(",
     "library": "var_list.r",
     "varRefreshCmd": "cat(var_dic_list()) "
    }
   },
   "types_to_exclude": [
    "module",
    "function",
    "builtin_function_or_method",
    "instance",
    "_Feature"
   ],
   "window_display": false
  }
 },
 "nbformat": 4,
 "nbformat_minor": 4
}
