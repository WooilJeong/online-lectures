{
 "cells": [
  {
   "cell_type": "markdown",
   "metadata": {},
   "source": [
    "> # MongoDB"
   ]
  },
  {
   "cell_type": "markdown",
   "metadata": {},
   "source": [
    "## 목표\n",
    "\n",
    "- NoSQL 개념 이해\n",
    "- 대표적인 NoSQL DB인 MongoDB 사용 방법 이해\n",
    "- MongoDB를 활용한 Python 프로그래밍 방법 이해\n",
    "- 크롤링을 통해 웹 데이터를 수집해서 MongoDB에 적재하고 활용하는 방법 이해"
   ]
  },
  {
   "cell_type": "markdown",
   "metadata": {},
   "source": [
    "## 풀스택, 데이터 과학에서 필요한 기술\n",
    "\n",
    "- 데이터베이스가 중심에 있음\n",
    "- 프로그래밍으로 모든 단계를 다룸\n",
    "\n",
    "```\n",
    "1. 데이터 수집 - 크롤링\n",
    "2. 데이터 저장 - DB\n",
    "3. 데이터 분석 - ML / DL / Statistics\n",
    "4. 데이터 Visualization - Indicators\n",
    "5. 서비스 개발 - Web / Mobile App\n",
    "```"
   ]
  },
  {
   "cell_type": "markdown",
   "metadata": {},
   "source": [
    "## 왜 MongoDB 인가?\n",
    "\n",
    "- NoSQL DB; mongodb, redis, HBASE, cassandra 등 여러 DB 존재\n",
    "- mongodb는 가장 많이 쓰이고, 레퍼런스가 많고, 처음 익히기 쉬움\n",
    "- 가장 많이 쓰는 데이터 포맷인 `JSON`과 유사하므로 익히기 쉬움\n",
    "- 주피터노트북에서 활용하기 쉬움"
   ]
  },
  {
   "cell_type": "markdown",
   "metadata": {},
   "source": [
    "## NoSQL 이해\n",
    "\n",
    "- Not only SQL\n",
    "- RDB 한계 극복 위해 만든 새로운 형태의 DB\n",
    "- RDB 처럼 고정된 스키마 및 JOIN 존재하지 않음\n",
    "- 스키마 변경 필요 없음\n",
    "\n",
    "SQL | NoSQL\n",
    "----|-------\n",
    "정해진 규격(Schema, Table-Column) | 정해진 규격 없음\n",
    "Join 가능 | Join 불가능\n",
    "트랜잭션 사용 | 트랜잭션 미사용\n",
    "분산처리 어려움 | 분산처리 쉬움\n",
    "\n"
   ]
  },
  {
   "cell_type": "markdown",
   "metadata": {},
   "source": [
    "## Why NoSQL?\n",
    "\n",
    "- RDB를 기본으로 사용하지만 초당 데이터가 수 십 만 개씩 쌓이는 서비스(소셜, 온라인 서비스 등)가 많아지면서 NoSQL을 사용하는 경우도 많아지고 있음.\n",
    "- 95% Read, 5% Write - RDB\n",
    "- 50% 이상 Write - NoSQL"
   ]
  },
  {
   "cell_type": "markdown",
   "metadata": {},
   "source": [
    "## MongoDB?\n",
    "\n",
    "- document db: JSON Document 기반 데이터 관리\n",
    "- 데이터 포맷: Int, Float, String\n",
    "- 파일 포맷: csv, json\n",
    "\n",
    "**MongoDB Document 예시**  \n",
    "```json\n",
    "{\n",
    "    \"_id\": Objectid(\"5099803df3f42312312391\"),\n",
    "    \"username\": \"Wooil Jeong\",\n",
    "    \"name\": {\"first\": \"Wooil\", \n",
    "             \"last\": \"Jeong\"}\n",
    "}\n",
    "```"
   ]
  },
  {
   "cell_type": "markdown",
   "metadata": {},
   "source": []
  },
  {
   "cell_type": "markdown",
   "metadata": {},
   "source": []
  },
  {
   "cell_type": "markdown",
   "metadata": {},
   "source": []
  },
  {
   "cell_type": "markdown",
   "metadata": {},
   "source": []
  },
  {
   "cell_type": "markdown",
   "metadata": {},
   "source": []
  },
  {
   "cell_type": "markdown",
   "metadata": {},
   "source": []
  }
 ],
 "metadata": {
  "kernelspec": {
   "display_name": "Python 3",
   "language": "python",
   "name": "python3"
  },
  "language_info": {
   "codemirror_mode": {
    "name": "ipython",
    "version": 3
   },
   "file_extension": ".py",
   "mimetype": "text/x-python",
   "name": "python",
   "nbconvert_exporter": "python",
   "pygments_lexer": "ipython3",
   "version": "3.8.3"
  }
 },
 "nbformat": 4,
 "nbformat_minor": 4
}
